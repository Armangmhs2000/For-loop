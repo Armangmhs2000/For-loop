{
 "cells": [
  {
   "cell_type": "code",
   "execution_count": 8,
   "id": "2b828944-8b14-4ccb-95a3-525b993be87a",
   "metadata": {},
   "outputs": [
    {
     "name": "stdout",
     "output_type": "stream",
     "text": [
      "p\n",
      "y\n",
      "t\n",
      "h\n",
      "o\n",
      "n\n"
     ]
    }
   ],
   "source": [
    "data='python'\n",
    "for x in data:\n",
    "    print(x)\n",
    "#x is a parameter for loop execution"
   ]
  },
  {
   "cell_type": "code",
   "execution_count": 9,
   "id": "8f81a40f-fe1d-4636-b7fb-e30e945733ee",
   "metadata": {},
   "outputs": [
    {
     "data": {
      "text/plain": [
       "'p'"
      ]
     },
     "execution_count": 9,
     "metadata": {},
     "output_type": "execute_result"
    }
   ],
   "source": [
    "data[0]"
   ]
  },
  {
   "cell_type": "code",
   "execution_count": 10,
   "id": "6da85c4f-b9ba-4c96-915a-97854a8b412b",
   "metadata": {},
   "outputs": [
    {
     "data": {
      "text/plain": [
       "'n'"
      ]
     },
     "execution_count": 10,
     "metadata": {},
     "output_type": "execute_result"
    }
   ],
   "source": [
    "data[-1]"
   ]
  },
  {
   "cell_type": "code",
   "execution_count": 11,
   "id": "34349c00-1bca-4c04-b8e3-9a724c9c8028",
   "metadata": {},
   "outputs": [
    {
     "name": "stdout",
     "output_type": "stream",
     "text": [
      "p x\n",
      "y x\n",
      "t x\n",
      "h x\n",
      "o x\n",
      "n x\n"
     ]
    }
   ],
   "source": [
    "data='python'\n",
    "for x in data:\n",
    "    print(x,'x')\n",
    "#x will be printed untill the loop stop"
   ]
  },
  {
   "cell_type": "code",
   "execution_count": 12,
   "id": "2a73e884-a52a-4473-99bb-e42f112f520d",
   "metadata": {},
   "outputs": [
    {
     "name": "stdout",
     "output_type": "stream",
     "text": [
      "p\n",
      "y\n",
      "t\n",
      "h\n",
      "o\n",
      "n\n"
     ]
    }
   ],
   "source": [
    "for x in range(len(data)):\n",
    "    print(data[x])\n",
    "#using range function ;in which variable length is considered and the parameter x will work by considering the length\n",
    "#in this section length can be expressed ;like in this section it will be 6"
   ]
  },
  {
   "cell_type": "code",
   "execution_count": 13,
   "id": "baa55e94-26d8-4f0d-98cd-8027ccfd04d0",
   "metadata": {},
   "outputs": [
    {
     "name": "stdout",
     "output_type": "stream",
     "text": [
      "I\n",
      " \n",
      "r\n",
      "e\n",
      "a\n",
      "l\n",
      "l\n",
      "y\n",
      " \n",
      "l\n",
      "o\n",
      "v\n",
      "e\n",
      " \n",
      "y\n",
      "o\n",
      "u\n"
     ]
    }
   ],
   "source": [
    "data='I really love you'\n",
    "for x in range(len(data)):\n",
    "    print(data[x])"
   ]
  },
  {
   "cell_type": "code",
   "execution_count": 14,
   "id": "9800d7d2-c826-4076-b2f3-5c81ad120f01",
   "metadata": {},
   "outputs": [
    {
     "data": {
      "text/plain": [
       "['I', 'really', 'love', 'you']"
      ]
     },
     "execution_count": 14,
     "metadata": {},
     "output_type": "execute_result"
    }
   ],
   "source": [
    "data.split()"
   ]
  },
  {
   "cell_type": "code",
   "execution_count": 15,
   "id": "57fd58b5-4ba5-4784-9601-9a2d25f39df0",
   "metadata": {},
   "outputs": [
    {
     "name": "stdout",
     "output_type": "stream",
     "text": [
      "I\n",
      "really\n",
      "love\n",
      "you\n"
     ]
    }
   ],
   "source": [
    "data=data.split()\n",
    "for i in range(len(data)):\n",
    "    print(data[i])"
   ]
  },
  {
   "cell_type": "code",
   "execution_count": 16,
   "id": "3b6d872f-02d8-4a78-b15d-38dea9112251",
   "metadata": {},
   "outputs": [
    {
     "data": {
      "text/plain": [
       "'really'"
      ]
     },
     "execution_count": 16,
     "metadata": {},
     "output_type": "execute_result"
    }
   ],
   "source": [
    "data[1]"
   ]
  },
  {
   "cell_type": "code",
   "execution_count": 17,
   "id": "a9a6c43a-6b5b-4c1f-8ed1-55d0d234efb4",
   "metadata": {},
   "outputs": [
    {
     "name": "stdout",
     "output_type": "stream",
     "text": [
      "10\n"
     ]
    }
   ],
   "source": [
    "n=[1,2,3,4,5,6,7,8,9,10]\n",
    "for x in n:\n",
    "    total=0\n",
    "    sum=total+x\n",
    "print(sum)"
   ]
  },
  {
   "cell_type": "code",
   "execution_count": 18,
   "id": "7ab3643a-f5b2-481f-a67a-04f591089690",
   "metadata": {},
   "outputs": [
    {
     "name": "stdout",
     "output_type": "stream",
     "text": [
      "data science 0\n",
      "data science 1\n",
      "data science 2\n",
      "data science 3\n",
      "data science 4\n",
      "data science 5\n",
      "data science 6\n",
      "data science 7\n",
      "data science 8\n",
      "data science 9\n"
     ]
    }
   ],
   "source": [
    "for i in range(10):\n",
    "    print('data science',i)"
   ]
  },
  {
   "cell_type": "code",
   "execution_count": 19,
   "id": "175669e0-98d8-47d0-a762-478ce6a2d6a2",
   "metadata": {},
   "outputs": [
    {
     "name": "stdout",
     "output_type": "stream",
     "text": [
      "data science 5\n",
      "data science 7\n",
      "data science 9\n"
     ]
    }
   ],
   "source": [
    "for i in range(5,10,2):\n",
    "    print('data science',i)"
   ]
  },
  {
   "cell_type": "code",
   "execution_count": 20,
   "id": "1a637e0c-7450-4631-bfea-20021279774a",
   "metadata": {},
   "outputs": [
    {
     "name": "stdout",
     "output_type": "stream",
     "text": [
      "data science 100\n",
      "data science 90\n",
      "data science 80\n",
      "data science 70\n",
      "data science 60\n",
      "data science 50\n",
      "data science 40\n",
      "data science 30\n",
      "data science 20\n"
     ]
    }
   ],
   "source": [
    "for i in range(100,10,-10):\n",
    "    print('data science',i)"
   ]
  },
  {
   "cell_type": "code",
   "execution_count": 21,
   "id": "d8fcd78c-c859-42e3-ad4d-9a09fbdae92d",
   "metadata": {},
   "outputs": [
    {
     "name": "stdout",
     "output_type": "stream",
     "text": [
      "0\n",
      "2\n",
      "4\n",
      "6\n",
      "8\n"
     ]
    }
   ],
   "source": [
    "for i in range(0,10,2):\n",
    "    print(i)\n",
    "#for printing even number "
   ]
  },
  {
   "cell_type": "code",
   "execution_count": 22,
   "id": "ddd03c03-f4aa-4140-82b3-d2d02d71dadf",
   "metadata": {},
   "outputs": [
    {
     "name": "stdout",
     "output_type": "stream",
     "text": [
      "1\n",
      "3\n",
      "5\n",
      "7\n",
      "9\n",
      "11\n",
      "13\n",
      "15\n",
      "17\n",
      "19\n"
     ]
    }
   ],
   "source": [
    "# Print odd numbers from 1 to 20\n",
    "for num in range(1, 21):\n",
    "    if num % 2 != 0:\n",
    "        print(num)"
   ]
  },
  {
   "cell_type": "code",
   "execution_count": 23,
   "id": "39b02c50-38cf-4002-95a5-a8f5e51bf156",
   "metadata": {},
   "outputs": [
    {
     "name": "stdout",
     "output_type": "stream",
     "text": [
      "1\n",
      "3\n",
      "5\n",
      "7\n",
      "9\n",
      "11\n",
      "13\n",
      "15\n",
      "17\n",
      "19\n"
     ]
    }
   ],
   "source": [
    "# Print odd numbers from 1 to 20\n",
    "for num in range(0, 20):\n",
    "    if num % 2 != 0:\n",
    "        print(num)\n"
   ]
  },
  {
   "cell_type": "code",
   "execution_count": 24,
   "id": "f05de65b",
   "metadata": {},
   "outputs": [
    {
     "name": "stdout",
     "output_type": "stream",
     "text": [
      "-100 -99 -98 -97 -96 -95 -94 -93 -92 -91 -90 -89 -88 -87 -86 -85 -84 -83 -82 -81 -80 -79 -78 -77 -76 -75 -74 -73 -72 -71 -70 -69 -68 -67 -66 -65 -64 -63 -62 -61 -60 -59 -58 -57 -56 -55 -54 -53 -52 -51 -50 -49 -48 -47 -46 -45 -44 -43 -42 -41 -40 -39 -38 -37 -36 -35 -34 -33 -32 -31 -30 -29 -28 -27 -26 -25 -24 -23 -22 -21 -20 -19 -18 -17 -16 -15 -14 -13 -12 -11 -10 "
     ]
    }
   ],
   "source": [
    "for i in range(-100, -9):\n",
    "    print(i, end=\" \")\n",
    "    #Numbers from -100 to -10\")"
   ]
  },
  {
   "cell_type": "code",
   "execution_count": 25,
   "id": "298f6a3f",
   "metadata": {},
   "outputs": [
    {
     "name": "stdout",
     "output_type": "stream",
     "text": [
      "Sum of prime numbers between 10 and 1000: 76110\n"
     ]
    }
   ],
   "source": [
    "prime_sum = 0\n",
    "for i in range(10, 1001):                 # loop from 10 to 1000\n",
    "    if all(i % j != 0 for j in range(2, int(i**0.5) + 1)): \n",
    "        #This checks if i is prime.\n",
    "#If i % j == 0, then i is divisible by j → not prime.\n",
    "#If no such j divides i, then it’s prime.\n",
    "#We only check up to sqrt(i) (int(i**0.5)) to save time.# \n",
    "        prime_sum += i                    # add if prime\n",
    "print(\"Sum of prime numbers between 10 and 1000:\", prime_sum)\n",
    "prime_sum += i\n",
    "#If the number is prime, add it to the total sum."
   ]
  },
  {
   "cell_type": "code",
   "execution_count": 28,
   "id": "a1025858",
   "metadata": {},
   "outputs": [
    {
     "name": "stdout",
     "output_type": "stream",
     "text": [
      "Factorial of 5 is: 120\n"
     ]
    }
   ],
   "source": [
    "#Find factorial of n\n",
    "n = int(input('enter the number : '))  # you can change this value\n",
    "factorial = 1\n",
    "for i in range(1, n+1):\n",
    "    factorial *= i\n",
    "print(f\"Factorial of {n} is:\", factorial)"
   ]
  },
  {
   "cell_type": "code",
   "execution_count": 27,
   "id": "6a99ab3e",
   "metadata": {},
   "outputs": [
    {
     "name": "stdout",
     "output_type": "stream",
     "text": [
      "Exercise 4: Reverse a given integer number\n",
      "Original number: 45\n",
      "Reversed number: 54\n"
     ]
    }
   ],
   "source": [
    "print(\"Exercise 4: Reverse a given integer number\")\n",
    "num = int(input(\"Enter a number: \"))  # take input from user\n",
    "reverse_num = 0\n",
    "# Count the number of digits and create a range for the for loop\n",
    "num_digits = len(str(num))  # just to know how many times to loop\n",
    "temp = num\n",
    "for _ in range(num_digits):#throwaway loop variable(_);which means an iterative variable which is not fixed\n",
    "    reverse_num = reverse_num * 10 + temp % 10\n",
    "    temp //= 10\n",
    "print(\"Original number:\", num)\n",
    "print(\"Reversed number:\", reverse_num)"
   ]
  }
 ],
 "metadata": {
  "kernelspec": {
   "display_name": "Python 3",
   "language": "python",
   "name": "python3"
  },
  "language_info": {
   "codemirror_mode": {
    "name": "ipython",
    "version": 3
   },
   "file_extension": ".py",
   "mimetype": "text/x-python",
   "name": "python",
   "nbconvert_exporter": "python",
   "pygments_lexer": "ipython3",
   "version": "3.13.7"
  }
 },
 "nbformat": 4,
 "nbformat_minor": 5
}
